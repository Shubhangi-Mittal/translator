{
 "cells": [
  {
   "cell_type": "code",
   "execution_count": 1,
   "id": "2bb14d78",
   "metadata": {},
   "outputs": [
    {
     "name": "stdout",
     "output_type": "stream",
     "text": [
      "Collecting translate\n",
      "  Downloading translate-3.6.1-py2.py3-none-any.whl (12 kB)\n",
      "Requirement already satisfied: lxml in /Users/shubhangimittal/anaconda3/lib/python3.10/site-packages (from translate) (4.9.1)\n",
      "Requirement already satisfied: click in /Users/shubhangimittal/anaconda3/lib/python3.10/site-packages (from translate) (8.0.4)\n",
      "Collecting libretranslatepy==2.1.1\n",
      "  Downloading libretranslatepy-2.1.1-py3-none-any.whl (3.2 kB)\n",
      "Requirement already satisfied: requests in /Users/shubhangimittal/anaconda3/lib/python3.10/site-packages (from translate) (2.28.1)\n",
      "Requirement already satisfied: certifi>=2017.4.17 in /Users/shubhangimittal/anaconda3/lib/python3.10/site-packages (from requests->translate) (2022.12.7)\n",
      "Requirement already satisfied: idna<4,>=2.5 in /Users/shubhangimittal/anaconda3/lib/python3.10/site-packages (from requests->translate) (3.4)\n",
      "Requirement already satisfied: urllib3<1.27,>=1.21.1 in /Users/shubhangimittal/anaconda3/lib/python3.10/site-packages (from requests->translate) (1.26.14)\n",
      "Requirement already satisfied: charset-normalizer<3,>=2 in /Users/shubhangimittal/anaconda3/lib/python3.10/site-packages (from requests->translate) (2.0.4)\n",
      "Installing collected packages: libretranslatepy, translate\n",
      "Successfully installed libretranslatepy-2.1.1 translate-3.6.1\n"
     ]
    }
   ],
   "source": [
    "!pip install translate"
   ]
  },
  {
   "cell_type": "code",
   "execution_count": 1,
   "id": "08100414",
   "metadata": {},
   "outputs": [
    {
     "ename": "TclError",
     "evalue": "bad option \"-coulmn\": must be -column, -columnspan, -in, -ipadx, -ipady, -padx, -pady, -row, -rowspan, or -sticky",
     "output_type": "error",
     "traceback": [
      "\u001b[0;31m---------------------------------------------------------------------------\u001b[0m",
      "\u001b[0;31mTclError\u001b[0m                                  Traceback (most recent call last)",
      "Cell \u001b[0;32mIn[1], line 38\u001b[0m\n\u001b[1;32m     35\u001b[0m TextBox\u001b[38;5;241m=\u001b[39mEntry(Screen,textvariable\u001b[38;5;241m=\u001b[39mOutputVar)\u001b[38;5;241m.\u001b[39mgrid(row\u001b[38;5;241m=\u001b[39m\u001b[38;5;241m2\u001b[39m,column\u001b[38;5;241m=\u001b[39m\u001b[38;5;241m3\u001b[39m)\n\u001b[1;32m     37\u001b[0m \u001b[38;5;66;03m#button for calling function\u001b[39;00m\n\u001b[0;32m---> 38\u001b[0m B\u001b[38;5;241m=\u001b[39m\u001b[43mButton\u001b[49m\u001b[43m(\u001b[49m\u001b[43mScreen\u001b[49m\u001b[43m,\u001b[49m\u001b[43m \u001b[49m\u001b[43mtext\u001b[49m\u001b[38;5;241;43m=\u001b[39;49m\u001b[38;5;124;43m\"\u001b[39;49m\u001b[38;5;124;43mTranslate\u001b[39;49m\u001b[38;5;124;43m\"\u001b[39;49m\u001b[43m,\u001b[49m\u001b[43m \u001b[49m\u001b[43mcommand\u001b[49m\u001b[38;5;241;43m=\u001b[39;49m\u001b[43mTranslate\u001b[49m\u001b[43m,\u001b[49m\u001b[43mrelief\u001b[49m\u001b[38;5;241;43m=\u001b[39;49m\u001b[43mGROOVE\u001b[49m\u001b[43m)\u001b[49m\u001b[38;5;241;43m.\u001b[39;49m\u001b[43mgrid\u001b[49m\u001b[43m(\u001b[49m\u001b[43mrow\u001b[49m\u001b[38;5;241;43m=\u001b[39;49m\u001b[38;5;241;43m3\u001b[39;49m\u001b[43m,\u001b[49m\u001b[43mcoulmn\u001b[49m\u001b[38;5;241;43m=\u001b[39;49m\u001b[38;5;241;43m1\u001b[39;49m\u001b[43m,\u001b[49m\u001b[43mcolumnspan\u001b[49m\u001b[38;5;241;43m=\u001b[39;49m\u001b[38;5;241;43m3\u001b[39;49m\u001b[43m)\u001b[49m\n\u001b[1;32m     39\u001b[0m mainloop()\n",
      "File \u001b[0;32m~/anaconda3/lib/python3.10/tkinter/__init__.py:2522\u001b[0m, in \u001b[0;36mGrid.grid_configure\u001b[0;34m(self, cnf, **kw)\u001b[0m\n\u001b[1;32m   2507\u001b[0m \u001b[38;5;28;01mdef\u001b[39;00m \u001b[38;5;21mgrid_configure\u001b[39m(\u001b[38;5;28mself\u001b[39m, cnf\u001b[38;5;241m=\u001b[39m{}, \u001b[38;5;241m*\u001b[39m\u001b[38;5;241m*\u001b[39mkw):\n\u001b[1;32m   2508\u001b[0m     \u001b[38;5;124;03m\"\"\"Position a widget in the parent widget in a grid. Use as options:\u001b[39;00m\n\u001b[1;32m   2509\u001b[0m \u001b[38;5;124;03m    column=number - use cell identified with given column (starting with 0)\u001b[39;00m\n\u001b[1;32m   2510\u001b[0m \u001b[38;5;124;03m    columnspan=number - this widget will span several columns\u001b[39;00m\n\u001b[0;32m   (...)\u001b[0m\n\u001b[1;32m   2520\u001b[0m \u001b[38;5;124;03m                  widget stick to the cell boundary\u001b[39;00m\n\u001b[1;32m   2521\u001b[0m \u001b[38;5;124;03m    \"\"\"\u001b[39;00m\n\u001b[0;32m-> 2522\u001b[0m     \u001b[38;5;28;43mself\u001b[39;49m\u001b[38;5;241;43m.\u001b[39;49m\u001b[43mtk\u001b[49m\u001b[38;5;241;43m.\u001b[39;49m\u001b[43mcall\u001b[49m\u001b[43m(\u001b[49m\n\u001b[1;32m   2523\u001b[0m \u001b[43m          \u001b[49m\u001b[43m(\u001b[49m\u001b[38;5;124;43m'\u001b[39;49m\u001b[38;5;124;43mgrid\u001b[39;49m\u001b[38;5;124;43m'\u001b[39;49m\u001b[43m,\u001b[49m\u001b[43m \u001b[49m\u001b[38;5;124;43m'\u001b[39;49m\u001b[38;5;124;43mconfigure\u001b[39;49m\u001b[38;5;124;43m'\u001b[39;49m\u001b[43m,\u001b[49m\u001b[43m \u001b[49m\u001b[38;5;28;43mself\u001b[39;49m\u001b[38;5;241;43m.\u001b[39;49m\u001b[43m_w\u001b[49m\u001b[43m)\u001b[49m\n\u001b[1;32m   2524\u001b[0m \u001b[43m          \u001b[49m\u001b[38;5;241;43m+\u001b[39;49m\u001b[43m \u001b[49m\u001b[38;5;28;43mself\u001b[39;49m\u001b[38;5;241;43m.\u001b[39;49m\u001b[43m_options\u001b[49m\u001b[43m(\u001b[49m\u001b[43mcnf\u001b[49m\u001b[43m,\u001b[49m\u001b[43m \u001b[49m\u001b[43mkw\u001b[49m\u001b[43m)\u001b[49m\u001b[43m)\u001b[49m\n",
      "\u001b[0;31mTclError\u001b[0m: bad option \"-coulmn\": must be -column, -columnspan, -in, -ipadx, -ipady, -padx, -pady, -row, -rowspan, or -sticky"
     ]
    }
   ],
   "source": [
    "from tkinter import *\n",
    "from translate import Translator\n",
    "\n",
    "Screen=Tk()\n",
    "Screen.title(\"Translator\")\n",
    "InputLanguageChoice=StringVar()\n",
    "TranslateLanguageChoice=StringVar()\n",
    "\n",
    "LanguageChoices={'Hindi','English','French','German','Spanish'}\n",
    "InputLanguageChoice.set('English')\n",
    "TranslateLanguageChoice.set('Hindi')\n",
    "\n",
    "def Translate():\n",
    "    translator=Translator(from_lang=InputLanguageChoice.get(),\n",
    "                         to_lang=TranslateLanguageChoice.get())\n",
    "    Translation=translator.translate(TextVar.get())\n",
    "    OutputVar.set(Translation)\n",
    "    \n",
    "#choice for input language\n",
    "InputLanguageChoiceMenu=OptionMenu(Screen,InputLanguageChoice,*LanguageChoices)\n",
    "Label(Screen,text=\"Choose a Language\").grid(row=0,column=1)\n",
    "InputLanguageChoiceMenu.grid(row=1,column=1)\n",
    "\n",
    "#choice in which the language has to be translated\n",
    "NewLanguageChoiceMenu=OptionMenu(Screen, TranslateLanguageChoice,*LanguageChoices)\n",
    "Label(Screen,text=\"Translated Language\").grid(row=0,column=2)\n",
    "NewLanguageChoiceMenu.grid(row=1,column=2)\n",
    "\n",
    "Label(Screen,text=\"Enter text\").grid(row=2,column=0)\n",
    "TextVar=StringVar()\n",
    "TextBox=Entry(Screen,textvariable=TextVar).grid(row=2,column=1)\n",
    "\n",
    "Label(Screen, text=\"Output Text\").grid(row=2,column=2)\n",
    "OutputVar=StringVar()\n",
    "TextBox=Entry(Screen,textvariable=OutputVar).grid(row=2,column=3)\n",
    "\n",
    "#button for calling function\n",
    "B=Button(Screen, text=\"Translate\", command=Translate,relief=GROOVE).grid(row=3,column=1,columnspan=3)\n",
    "mainloop()"
   ]
  },
  {
   "cell_type": "code",
   "execution_count": null,
   "id": "e2130ef6",
   "metadata": {},
   "outputs": [],
   "source": []
  }
 ],
 "metadata": {
  "kernelspec": {
   "display_name": "Python 3 (ipykernel)",
   "language": "python",
   "name": "python3"
  },
  "language_info": {
   "codemirror_mode": {
    "name": "ipython",
    "version": 3
   },
   "file_extension": ".py",
   "mimetype": "text/x-python",
   "name": "python",
   "nbconvert_exporter": "python",
   "pygments_lexer": "ipython3",
   "version": "3.10.9"
  }
 },
 "nbformat": 4,
 "nbformat_minor": 5
}
